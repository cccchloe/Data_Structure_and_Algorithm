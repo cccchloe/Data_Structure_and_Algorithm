{
 "cells": [
  {
   "cell_type": "code",
   "execution_count": 5,
   "metadata": {},
   "outputs": [],
   "source": [
    "def print_num_recursive(n):\n",
    "    if n > 0:\n",
    "        print_num_recursive(n-1)\n",
    "        print(n)"
   ]
  },
  {
   "cell_type": "code",
   "execution_count": 7,
   "metadata": {},
   "outputs": [],
   "source": [
    "def print_num_recursive_revserve(n):\n",
    "    if n > 0:\n",
    "        print(n)\n",
    "        print_num_recursive_revserve(n-1)"
   ]
  },
  {
   "cell_type": "code",
   "execution_count": 12,
   "metadata": {},
   "outputs": [],
   "source": [
    "from collections import deque\n",
    "\n",
    "class Stack(object):\n",
    "    def __init__(self):\n",
    "        self._deque=deque()\n",
    "        \n",
    "    def push(self,value):\n",
    "        return self._deque.append(value)\n",
    "    \n",
    "    def pop(self):\n",
    "        return self._deque.pop()\n",
    "    \n",
    "    def is_empty(self):\n",
    "        return len(self._deque)==0\n",
    "    \n",
    "def print_num_use_stack(n):\n",
    "    s=Stack()\n",
    "    while n>0:\n",
    "        s.push(n)\n",
    "        n-=1\n",
    "        \n",
    "    while not s.is_empty():\n",
    "        print(s.pop())"
   ]
  },
  {
   "cell_type": "code",
   "execution_count": 19,
   "metadata": {},
   "outputs": [],
   "source": [
    "def hanoi_move(n,source,dest,intermediate):\n",
    "    if n>=1:\n",
    "        hanoi_move(n-1,source,intermediate,dest)\n",
    "        print('Move %s -> %s'%(source,dest))\n",
    "        hanoi_move(n-1,intermediate,dest,source)"
   ]
  },
  {
   "cell_type": "code",
   "execution_count": 20,
   "metadata": {},
   "outputs": [
    {
     "name": "stdout",
     "output_type": "stream",
     "text": [
      "Move A -> C\n",
      "Move A -> B\n",
      "Move C -> B\n",
      "Move A -> C\n",
      "Move B -> A\n",
      "Move B -> C\n",
      "Move A -> C\n"
     ]
    }
   ],
   "source": [
    "hanoi_move(3,'A','C','B')"
   ]
  },
  {
   "cell_type": "code",
   "execution_count": 48,
   "metadata": {},
   "outputs": [],
   "source": [
    "def flatten(s):\n",
    "    if s==[]:\n",
    "        return s\n",
    "    if isinstance(s[0],list):\n",
    "        return flatten(s[0])+flatten(s[1:])\n",
    "    return s[:1]+flatten(s[1:])\n",
    "\n",
    "a=[[1,2],[1,2,3],1,2,[22,3]]\n",
    "flatten(a)"
   ]
  },
  {
   "cell_type": "code",
   "execution_count": 89,
   "metadata": {},
   "outputs": [],
   "source": [
    "number_list=[0,1,2,3,4,5,6,7]\n",
    "def linear_search(value,iterable):\n",
    "    for index,val in enumerate(iterable):\n",
    "        if val==value:\n",
    "            return index\n",
    "    return -1\n",
    "        \n",
    "def linear_search2(predicate,iterable):\n",
    "    for index,val in enumerate(iterable):\n",
    "        if predicate(val):\n",
    "            return index\n",
    "    return -1\n",
    "\n",
    "def linear_search_recursive(array,value):\n",
    "    if len(array)==0:\n",
    "        return -1\n",
    "    index=len(array)-1\n",
    "    if array[index]==value:\n",
    "        return index\n",
    "    return linear_search_recursive(array[:index],value)"
   ]
  },
  {
   "cell_type": "code",
   "execution_count": 98,
   "metadata": {},
   "outputs": [],
   "source": [
    "def binary_search(sorted_array,value):\n",
    "    beg=0\n",
    "    end=len(sorted_array)-1\n",
    "    while beg<end:\n",
    "        mid=int((beg+end)/2)\n",
    "        if sorted_array[mid]>value:\n",
    "            end=mid-1\n",
    "        elif sorted_array[mid]<value:\n",
    "            beg=mid+1\n",
    "        else:\n",
    "            return mid\n",
    "    return -1"
   ]
  },
  {
   "cell_type": "code",
   "execution_count": 145,
   "metadata": {},
   "outputs": [],
   "source": [
    "def binary_search_recursive(sorted_array,beg,end,value):\n",
    "\n",
    "    if beg >=end:\n",
    "        return -1\n",
    "    mid=int((beg+end)/2)\n",
    "    if sorted_array[mid]==value:\n",
    "        return mid\n",
    "    elif sorted_array[mid]>value:\n",
    "        return binary_search_recursive(sorted_array,beg,mid,value)\n",
    "    else:\n",
    "        return binary_search_recursive(sorted_array,mid+1,end,value)"
   ]
  },
  {
   "cell_type": "code",
   "execution_count": 152,
   "metadata": {},
   "outputs": [],
   "source": [
    "def insort_right(sorted_array,value,beg=0,end=None):\n",
    "    if beg<=0:\n",
    "        raise ValueError('lo must be non-negative')\n",
    "    if end is None:\n",
    "        end=len(a)\n",
    "        \n",
    "    while beg<end:\n",
    "        mid=(beg+end)//2\n",
    "        if sorted_array[mid]>value:\n",
    "            end=mid\n",
    "        else:\n",
    "            low=mid+1\n",
    "    sorted_array.insert(beg,value)"
   ]
  },
  {
   "cell_type": "code",
   "execution_count": 160,
   "metadata": {},
   "outputs": [],
   "source": [
    "bisect.insort(a,5)"
   ]
  },
  {
   "cell_type": "code",
   "execution_count": 168,
   "metadata": {},
   "outputs": [
    {
     "data": {
      "text/plain": [
       "[1, 2, 3, 4, 5, 6, 7, 8, 9]"
      ]
     },
     "execution_count": 168,
     "metadata": {},
     "output_type": "execute_result"
    }
   ],
   "source": [
    "import itertools\n",
    "natuals=itertools.count(1)  # 返回iterator,在for迭代时产生无限序列\n",
    "ns=itertools.takewhile(lambda x:x<10,natuals)  \n",
    "list(ns)"
   ]
  },
  {
   "cell_type": "code",
   "execution_count": 214,
   "metadata": {},
   "outputs": [],
   "source": [
    "def pi(N):\n",
    "    ' 计算pi的值 '\n",
    "\n",
    "    natuals=itertools.count(1)\n",
    "    odds=[]\n",
    "    odds_2=[]\n",
    "    neg=0\n",
    "    for i in natuals:\n",
    "        if i%2==1:\n",
    "            odds.append(i)\n",
    "            if len(odds)==N:\n",
    "                break\n",
    "    for odd in odds:\n",
    "        print(odd)\n",
    "        odd=4/odd*((-1)**neg)\n",
    "        odds_2.append(odd)\n",
    "        neg+=1\n",
    "    return sum(odds_2)"
   ]
  },
  {
   "cell_type": "code",
   "execution_count": 230,
   "metadata": {},
   "outputs": [],
   "source": [
    "## leetcode 153\n",
    "def findMin(nums):\n",
    "    if len(nums)==1:\n",
    "        return nums[0]\n",
    "\n",
    "    left=0\n",
    "    right=len(nums)-1\n",
    "\n",
    "    if nums[right]>nums[left]:\n",
    "        return nums[0]\n",
    "\n",
    "    while left<=right:\n",
    "        mid=left+(right-left)//2\n",
    "        if nums[mid]>nums[mid+1]:\n",
    "            return nums[mid+1]\n",
    "        if nums[mid-1]>nums[mid]:\n",
    "            return nums[mid]\n",
    "        if nums[mid]>nums[0]:\n",
    "            left=mid+1\n",
    "        else:\n",
    "            right=mid-1"
   ]
  },
  {
   "cell_type": "code",
   "execution_count": 232,
   "metadata": {},
   "outputs": [
    {
     "data": {
      "text/plain": [
       "0"
      ]
     },
     "execution_count": 232,
     "metadata": {},
     "output_type": "execute_result"
    }
   ],
   "source": [
    "findMin([3,4,5,10,0])"
   ]
  },
  {
   "cell_type": "code",
   "execution_count": null,
   "metadata": {},
   "outputs": [],
   "source": []
  }
 ],
 "metadata": {
  "kernelspec": {
   "display_name": "Python 3",
   "language": "python",
   "name": "python3"
  },
  "language_info": {
   "codemirror_mode": {
    "name": "ipython",
    "version": 3
   },
   "file_extension": ".py",
   "mimetype": "text/x-python",
   "name": "python",
   "nbconvert_exporter": "python",
   "pygments_lexer": "ipython3",
   "version": "3.6.5"
  }
 },
 "nbformat": 4,
 "nbformat_minor": 2
}

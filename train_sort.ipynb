{
 "cells": [
  {
   "cell_type": "code",
   "execution_count": 9,
   "metadata": {},
   "outputs": [],
   "source": [
    "# 冒泡排序\n",
    "import random\n",
    "\n",
    "def bubble_sort(seq):\n",
    "    n=len(seq)\n",
    "    for i in range(n-1):\n",
    "        print(seq)\n",
    "        for j in range(n-1-i):\n",
    "            if seq[j]>seq[j+1]:\n",
    "                seq[j],seq[j+1]=seq[j+1],seq[j]\n",
    "    print(seq)\n",
    "    \n",
    "    \n",
    "def test_bubble_sort():\n",
    "    seq=list(range(10))\n",
    "    random.shuffle(seq)\n",
    "    sorted_seq=sorted(seq)\n",
    "    bubble_sort(seq)\n",
    "    assert seq==sorted_seq"
   ]
  },
  {
   "cell_type": "code",
   "execution_count": 10,
   "metadata": {},
   "outputs": [
    {
     "name": "stdout",
     "output_type": "stream",
     "text": [
      "[7, 5, 9, 0, 6, 2, 3, 4, 1, 8]\n",
      "[5, 7, 0, 6, 2, 3, 4, 1, 8, 9]\n",
      "[5, 0, 6, 2, 3, 4, 1, 7, 8, 9]\n",
      "[0, 5, 2, 3, 4, 1, 6, 7, 8, 9]\n",
      "[0, 2, 3, 4, 1, 5, 6, 7, 8, 9]\n",
      "[0, 2, 3, 1, 4, 5, 6, 7, 8, 9]\n",
      "[0, 2, 1, 3, 4, 5, 6, 7, 8, 9]\n",
      "[0, 1, 2, 3, 4, 5, 6, 7, 8, 9]\n",
      "[0, 1, 2, 3, 4, 5, 6, 7, 8, 9]\n",
      "[0, 1, 2, 3, 4, 5, 6, 7, 8, 9]\n"
     ]
    }
   ],
   "source": [
    "test_bubble_sort()"
   ]
  },
  {
   "cell_type": "code",
   "execution_count": 12,
   "metadata": {},
   "outputs": [],
   "source": [
    "# 选择排序\n",
    "\n",
    "def select_sort(seq):\n",
    "    n=len(seq)\n",
    "    for i in range(n-1):\n",
    "        print(seq)\n",
    "        min_idx=i\n",
    "        for j in range(i+1,n):\n",
    "            if seq[j]<seq[min_idx]:\n",
    "                min_idx=j\n",
    "        if min_idx!=i:\n",
    "            seq[i],seq[min_idx]=seq[min_idx],seq[i]\n",
    "            \n",
    "def test_select_sort():\n",
    "    seq=list(range(10))\n",
    "    random.shuffle(seq)\n",
    "    sorted_seq=sorted(seq)\n",
    "    select_sort(seq)\n",
    "    assert seq==sorted_seq"
   ]
  },
  {
   "cell_type": "code",
   "execution_count": 13,
   "metadata": {},
   "outputs": [
    {
     "name": "stdout",
     "output_type": "stream",
     "text": [
      "[8, 7, 9, 0, 2, 6, 1, 3, 4, 5]\n",
      "[0, 7, 9, 8, 2, 6, 1, 3, 4, 5]\n",
      "[0, 1, 9, 8, 2, 6, 7, 3, 4, 5]\n",
      "[0, 1, 2, 8, 9, 6, 7, 3, 4, 5]\n",
      "[0, 1, 2, 3, 9, 6, 7, 8, 4, 5]\n",
      "[0, 1, 2, 3, 4, 6, 7, 8, 9, 5]\n",
      "[0, 1, 2, 3, 4, 5, 7, 8, 9, 6]\n",
      "[0, 1, 2, 3, 4, 5, 6, 8, 9, 7]\n",
      "[0, 1, 2, 3, 4, 5, 6, 7, 9, 8]\n"
     ]
    }
   ],
   "source": [
    "test_select_sort()"
   ]
  },
  {
   "cell_type": "code",
   "execution_count": 14,
   "metadata": {},
   "outputs": [],
   "source": [
    "#  插入排序\n",
    "\n",
    "def insertion_sort(seq):\n",
    "    n=len(seq)\n",
    "    for i in range(1,n):\n",
    "        val=seq[i]\n",
    "        pos=i\n",
    "        while pos>0 and val<seq[pos-1]:\n",
    "            seq[pos]=seq[pos-1]\n",
    "            pos-=1\n",
    "        seq[pos]=val\n",
    "        print(seq)\n",
    "        \n",
    "def test_insertion_sort():\n",
    "    seq=list(range(10))\n",
    "    random.shuffle(seq)\n",
    "    sorted_seq=sorted(seq)\n",
    "    insertion_sort(seq)\n",
    "    assert seq==sorted_seq"
   ]
  },
  {
   "cell_type": "code",
   "execution_count": 15,
   "metadata": {},
   "outputs": [
    {
     "name": "stdout",
     "output_type": "stream",
     "text": [
      "[4, 5, 8, 6, 2, 0, 7, 3, 1, 9]\n",
      "[4, 5, 8, 6, 2, 0, 7, 3, 1, 9]\n",
      "[4, 5, 6, 8, 2, 0, 7, 3, 1, 9]\n",
      "[2, 4, 5, 6, 8, 0, 7, 3, 1, 9]\n",
      "[0, 2, 4, 5, 6, 8, 7, 3, 1, 9]\n",
      "[0, 2, 4, 5, 6, 7, 8, 3, 1, 9]\n",
      "[0, 2, 3, 4, 5, 6, 7, 8, 1, 9]\n",
      "[0, 1, 2, 3, 4, 5, 6, 7, 8, 9]\n",
      "[0, 1, 2, 3, 4, 5, 6, 7, 8, 9]\n"
     ]
    }
   ],
   "source": [
    "test_insertion_sort()"
   ]
  },
  {
   "cell_type": "code",
   "execution_count": 30,
   "metadata": {},
   "outputs": [],
   "source": [
    "# 分治法与归并排序\n",
    "\n",
    "def merge_sort(seq):\n",
    "    if len(seq)<=1:\n",
    "        return seq\n",
    "    else:\n",
    "        mid=int(len(seq)/2)\n",
    "        left_half=merge_sort(seq[:mid])\n",
    "        right_half=merge_sort(seq[mid:])\n",
    "        \n",
    "        new_seq=merge_sorted_list(left_half,right_half)\n",
    "        return new_seq\n",
    "\n",
    "def merge_sorted_list(sorted_a,sorted_b):\n",
    "    length_a, length_b=len(sorted_a),len(sorted_b)\n",
    "    a,b=0,0\n",
    "    new_sorted_seq=list()\n",
    "    \n",
    "    while a<length_a and b<length_b:\n",
    "        if sorted_a[a]<sorted_b[b]:\n",
    "            new_sorted_seq.append(sorted_a[a])\n",
    "            a+=1\n",
    "        else:\n",
    "            new_sorted_seq.append(sorted_b[b])\n",
    "            b+=1\n",
    "            \n",
    "    if a<length_a:\n",
    "        new_sorted_seq.extend(sorted_a[a:])\n",
    "    else:\n",
    "        new_sorted_seq.extend(sorted_b[b:])\n",
    "    print(new_sorted_seq)\n",
    "    return new_sorted_seq\n",
    "\n",
    "def test_merge_sort():\n",
    "    seq=list(range(10))\n",
    "    random.shuffle(seq)\n",
    "    print(seq)\n",
    "    assert merge_sort(seq)==sorted(seq)\n",
    "    "
   ]
  },
  {
   "cell_type": "code",
   "execution_count": 31,
   "metadata": {},
   "outputs": [
    {
     "name": "stdout",
     "output_type": "stream",
     "text": [
      "[6, 8, 4, 9, 3, 1, 5, 0, 2, 7]\n",
      "[6, 8]\n",
      "[3, 9]\n",
      "[3, 4, 9]\n",
      "[3, 4, 6, 8, 9]\n",
      "[1, 5]\n",
      "[2, 7]\n",
      "[0, 2, 7]\n",
      "[0, 1, 2, 5, 7]\n",
      "[0, 1, 2, 3, 4, 5, 6, 7, 8, 9]\n"
     ]
    }
   ],
   "source": [
    "test_merge_sort()"
   ]
  },
  {
   "cell_type": "code",
   "execution_count": 38,
   "metadata": {},
   "outputs": [],
   "source": [
    "# 快速排序\n",
    "def quick_sort(array):\n",
    "    size=len(array)\n",
    "    if not array or size<2:\n",
    "        return array\n",
    "    pivot_idx=0\n",
    "    pivot=array[pivot_idx]\n",
    "    less_part=[array[i] for i in range(size) if array[i]<=pivot and pivot_idx!=i]\n",
    "    great_part=[array[i] for i in range(size) if array[i]>=pivot and pivot_idx!=i]\n",
    "    print(array)\n",
    "    return quick_sort(less_part)+[pivot]+quick_sort(great_part)\n",
    "\n",
    "def test_quicksort():\n",
    "    seq=list(range(10))\n",
    "    random.shuffle(seq)\n",
    "    assert quick_sort(seq)==sorted(seq)"
   ]
  },
  {
   "cell_type": "code",
   "execution_count": 39,
   "metadata": {},
   "outputs": [
    {
     "name": "stdout",
     "output_type": "stream",
     "text": [
      "[2, 5, 4, 7, 8, 3, 6, 9, 0, 1]\n",
      "[0, 1]\n",
      "[5, 4, 7, 8, 3, 6, 9]\n",
      "[4, 3]\n",
      "[7, 8, 6, 9]\n",
      "[8, 9]\n"
     ]
    }
   ],
   "source": [
    "test_quicksort()"
   ]
  },
  {
   "cell_type": "code",
   "execution_count": 62,
   "metadata": {},
   "outputs": [],
   "source": [
    "# 方法二\n",
    "def partition(array,beg,end):\n",
    "    pivot_idx=beg\n",
    "    pivot=array[pivot_idx]\n",
    "    left=beg+1\n",
    "    right=end-1\n",
    "    \n",
    "    while True:\n",
    "        while left<=right and array[left]<pivot:\n",
    "            left+=1\n",
    "        while right>=left and array[right]>pivot:\n",
    "            right-=1\n",
    "        if left<=right:\n",
    "            array[left],array[right]=array[right],array[left]\n",
    "        else:\n",
    "            break\n",
    "    array[pivot_idx],array[right]=array[right],array[pivot_idx]\n",
    "    return right\n",
    "\n",
    "def quicksort_inplace(array,beg,end):\n",
    "    if beg< end:\n",
    "        pivot_idx=partition(array,beg,end)\n",
    "        quicksort_inplace(array,beg,pivot_idx)\n",
    "        quicksort_inplace(array,pivot_idx+1,end)\n",
    "        \n",
    "def test_partition():\n",
    "    l=[4,1,2,8]\n",
    "    assert partition(l,0,len(l))==2\n",
    "    l=[1,2,3,4]\n",
    "    assert partition(l,0,len(l))==0\n",
    "    l = [4, 3, 2, 1]\n",
    "    assert partition(l, 0, len(l)) == 3\n",
    "    l = [1]\n",
    "    assert partition(l, 0, len(l)) == 0\n",
    "    l = [2,1]\n",
    "    assert partition(l, 0, len(l)) == 1\n",
    "    \n",
    "    \n",
    "def test_quicksort_inplace():\n",
    "    seq=list(range(10,20))\n",
    "    random.shuffle(seq)\n",
    "    print(seq)\n",
    "    quicksort_inplace(seq,0,len(seq))\n",
    "    print(seq)"
   ]
  },
  {
   "cell_type": "code",
   "execution_count": 63,
   "metadata": {},
   "outputs": [],
   "source": [
    "test_partition()"
   ]
  },
  {
   "cell_type": "code",
   "execution_count": 64,
   "metadata": {},
   "outputs": [
    {
     "name": "stdout",
     "output_type": "stream",
     "text": [
      "[15, 18, 11, 19, 14, 13, 17, 10, 12, 16]\n",
      "[10, 11, 12, 13, 14, 15, 16, 17, 18, 19]\n"
     ]
    }
   ],
   "source": [
    "test_quicksort_inplace()"
   ]
  },
  {
   "cell_type": "code",
   "execution_count": null,
   "metadata": {},
   "outputs": [],
   "source": [
    "# nth element\n",
    "\n",
    "def nth_element(array,beg,end,n):\n",
    "    if beg<end:\n",
    "        pivot_idx=partition(array,beg,end)\n",
    "        if pivot_idx==n-1:\n",
    "            return array[pivot_idx]\n",
    "        elif pivot_idx>n-1:\n",
    "            return nth_element(array,beg,pivot_idx,n)\n",
    "        else:\n",
    "            return nth_element(array,pivot_idx+1,end,n)\n",
    "        \n",
    "def test_nth_element():\n",
    "    l1 = [3, 5, 4, 2, 1]\n",
    "    assert nth_element(l1, 0, len(l1), 3) == 3\n",
    "    assert nth_element(l1, 0, len(l1), 2) == 2\n",
    "\n",
    "    l = [1, 2, 3, 4, 5, 6, 7, 8, 9, 10]\n",
    "    for i in l:\n",
    "        assert nth_element(l, 0, len(l), i) == i\n",
    "    for i in reversed(l):\n",
    "        assert nth_element(l, 0, len(l), i) == i\n",
    "\n",
    "    array = [3, 2, 1, 5, 6, 4]\n",
    "    assert nth_element(array, 0, len(array), 2) == 2\n",
    "\n",
    "    array = [2,1]\n",
    "    assert nth_element(array, 0, len(array), 1) == 1\n",
    "    assert nth_element(array, 0, len(array), 2) == 2\n",
    "\n",
    "    array = [3,3,3,3,3,3,3,3,3]\n",
    "    assert nth_element(array, 0, len(array), 1) == 3"
   ]
  }
 ],
 "metadata": {
  "kernelspec": {
   "display_name": "Python 3",
   "language": "python",
   "name": "python3"
  },
  "language_info": {
   "codemirror_mode": {
    "name": "ipython",
    "version": 3
   },
   "file_extension": ".py",
   "mimetype": "text/x-python",
   "name": "python",
   "nbconvert_exporter": "python",
   "pygments_lexer": "ipython3",
   "version": "3.6.5"
  }
 },
 "nbformat": 4,
 "nbformat_minor": 2
}

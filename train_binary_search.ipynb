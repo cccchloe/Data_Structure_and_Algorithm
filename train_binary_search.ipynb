{
 "cells": [
  {
   "cell_type": "code",
   "execution_count": 10,
   "metadata": {},
   "outputs": [],
   "source": [
    "def binary_search(sorted_array,val):\n",
    "    if not sorted_array:\n",
    "        return -1\n",
    "    \n",
    "    beg=0\n",
    "    end=len(sorted_array)-1\n",
    "    while beg<=end:\n",
    "        mid=int((beg+end)/2)\n",
    "        if sorted_array[mid]==val:\n",
    "            return mid\n",
    "        elif sorted_array[mid]<val:\n",
    "            beg=mid+1\n",
    "        else:\n",
    "            end=mid-1\n",
    "    return -1\n",
    "\n",
    "def test_binary_search():\n",
    "    a=list(range(10))\n",
    "    \n",
    "    assert binary_search(a,1)==1\n",
    "    assert binary_search(a,-1)==-1\n",
    "    assert binary_search(None,1)==-1\n",
    "    assert binary_search(a,0)==0"
   ]
  },
  {
   "cell_type": "code",
   "execution_count": 12,
   "metadata": {},
   "outputs": [],
   "source": [
    "test_binary_search()"
   ]
  },
  {
   "cell_type": "code",
   "execution_count": 13,
   "metadata": {},
   "outputs": [],
   "source": [
    "def binary_search_recursive(sorted_array,beg,end,val):\n",
    "    if not sorted_array:\n",
    "        return -1\n",
    "    mid=int((beg+end)/2)\n",
    "    if sorted_array[mid]==val:\n",
    "        return mid\n",
    "    elif sorted_array[mid]<val:\n",
    "        return binary_search_recursive(sorted_array,mid+1,end,val)  # 依然假设 beg, end 区间是左闭右开的\n",
    "    else:\n",
    "        return binary_search_recursive(sorted_array,beg,mid,val)\n",
    "\n",
    "    \n",
    "def test_binary_search_recursive():\n",
    "    # 我们测试所有值和边界条件\n",
    "    a = list(range(10))\n",
    "    for i in a:\n",
    "        assert binary_search_recursive(a, 0, len(a), i) == i\n",
    "\n",
    "    assert binary_search_recursive(a, 0, len(a), -1) == -1\n",
    "    assert binary_search_recursive(a, 0, len(a), 10) == -1"
   ]
  },
  {
   "cell_type": "code",
   "execution_count": null,
   "metadata": {},
   "outputs": [],
   "source": []
  }
 ],
 "metadata": {
  "kernelspec": {
   "display_name": "Python 3",
   "language": "python",
   "name": "python3"
  },
  "language_info": {
   "codemirror_mode": {
    "name": "ipython",
    "version": 3
   },
   "file_extension": ".py",
   "mimetype": "text/x-python",
   "name": "python",
   "nbconvert_exporter": "python",
   "pygments_lexer": "ipython3",
   "version": "3.6.5"
  }
 },
 "nbformat": 4,
 "nbformat_minor": 2
}
